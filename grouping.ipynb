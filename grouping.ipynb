{
 "cells": [
  {
   "cell_type": "code",
   "execution_count": 21,
   "metadata": {},
   "outputs": [],
   "source": [
    "import pandas as pd\n",
    "import numpy as np"
   ]
  },
  {
   "cell_type": "code",
   "execution_count": 22,
   "metadata": {},
   "outputs": [],
   "source": [
    "df_master=pd.read_csv(\"final2.csv\")"
   ]
  },
  {
   "cell_type": "code",
   "execution_count": 23,
   "metadata": {},
   "outputs": [
    {
     "data": {
      "text/html": [
       "<div>\n",
       "<style scoped>\n",
       "    .dataframe tbody tr th:only-of-type {\n",
       "        vertical-align: middle;\n",
       "    }\n",
       "\n",
       "    .dataframe tbody tr th {\n",
       "        vertical-align: top;\n",
       "    }\n",
       "\n",
       "    .dataframe thead th {\n",
       "        text-align: right;\n",
       "    }\n",
       "</style>\n",
       "<table border=\"1\" class=\"dataframe\">\n",
       "  <thead>\n",
       "    <tr style=\"text-align: right;\">\n",
       "      <th></th>\n",
       "      <th>date</th>\n",
       "      <th>isholnum</th>\n",
       "      <th>sku</th>\n",
       "      <th>group</th>\n",
       "      <th>name</th>\n",
       "      <th>quantity</th>\n",
       "      <th>unit_cogs</th>\n",
       "      <th>sunrise</th>\n",
       "      <th>sunset</th>\n",
       "      <th>HeatIndexC</th>\n",
       "      <th>cloudcover</th>\n",
       "      <th>humidity</th>\n",
       "      <th>tempC</th>\n",
       "      <th>Avgtemp</th>\n",
       "      <th>Unnamed: 14</th>\n",
       "    </tr>\n",
       "  </thead>\n",
       "  <tbody>\n",
       "    <tr>\n",
       "      <th>0</th>\n",
       "      <td>2018-01-01</td>\n",
       "      <td>1</td>\n",
       "      <td>3646</td>\n",
       "      <td>ART._HYGIENIC</td>\n",
       "      <td>BELLA HERBS 12 Z WERBENA</td>\n",
       "      <td>1</td>\n",
       "      <td>2.39</td>\n",
       "      <td>08:52:00</td>\n",
       "      <td>16:31:00</td>\n",
       "      <td>6</td>\n",
       "      <td>79</td>\n",
       "      <td>89</td>\n",
       "      <td>8</td>\n",
       "      <td>5.5</td>\n",
       "      <td>NaN</td>\n",
       "    </tr>\n",
       "    <tr>\n",
       "      <th>1</th>\n",
       "      <td>2018-01-01</td>\n",
       "      <td>1</td>\n",
       "      <td>17048</td>\n",
       "      <td>ART._HYGIENIC</td>\n",
       "      <td>BELLA PODPASKI BLUE MAX</td>\n",
       "      <td>2</td>\n",
       "      <td>2.85</td>\n",
       "      <td>08:52:00</td>\n",
       "      <td>16:31:00</td>\n",
       "      <td>6</td>\n",
       "      <td>79</td>\n",
       "      <td>89</td>\n",
       "      <td>8</td>\n",
       "      <td>5.5</td>\n",
       "      <td>NaN</td>\n",
       "    </tr>\n",
       "    <tr>\n",
       "      <th>2</th>\n",
       "      <td>2018-01-01</td>\n",
       "      <td>1</td>\n",
       "      <td>41</td>\n",
       "      <td>ART._HYGIENIC</td>\n",
       "      <td>BELLA PODPASKI NORMAL 20 B/SKRZYD</td>\n",
       "      <td>2</td>\n",
       "      <td>1.76</td>\n",
       "      <td>08:52:00</td>\n",
       "      <td>16:31:00</td>\n",
       "      <td>6</td>\n",
       "      <td>79</td>\n",
       "      <td>89</td>\n",
       "      <td>8</td>\n",
       "      <td>5.5</td>\n",
       "      <td>NaN</td>\n",
       "    </tr>\n",
       "    <tr>\n",
       "      <th>3</th>\n",
       "      <td>2018-01-01</td>\n",
       "      <td>1</td>\n",
       "      <td>55</td>\n",
       "      <td>ART._HYGIENIC</td>\n",
       "      <td>BELLA PODPASKI NORMAL MAXI 10</td>\n",
       "      <td>4</td>\n",
       "      <td>2.14</td>\n",
       "      <td>08:52:00</td>\n",
       "      <td>16:31:00</td>\n",
       "      <td>6</td>\n",
       "      <td>79</td>\n",
       "      <td>89</td>\n",
       "      <td>8</td>\n",
       "      <td>5.5</td>\n",
       "      <td>NaN</td>\n",
       "    </tr>\n",
       "    <tr>\n",
       "      <th>4</th>\n",
       "      <td>2018-01-01</td>\n",
       "      <td>1</td>\n",
       "      <td>54</td>\n",
       "      <td>ART._HYGIENIC</td>\n",
       "      <td>BELLA PODPASKI NOVA MAXI 10</td>\n",
       "      <td>1</td>\n",
       "      <td>2.66</td>\n",
       "      <td>08:52:00</td>\n",
       "      <td>16:31:00</td>\n",
       "      <td>6</td>\n",
       "      <td>79</td>\n",
       "      <td>89</td>\n",
       "      <td>8</td>\n",
       "      <td>5.5</td>\n",
       "      <td>NaN</td>\n",
       "    </tr>\n",
       "  </tbody>\n",
       "</table>\n",
       "</div>"
      ],
      "text/plain": [
       "         date  isholnum    sku          group  \\\n",
       "0  2018-01-01         1   3646  ART._HYGIENIC   \n",
       "1  2018-01-01         1  17048  ART._HYGIENIC   \n",
       "2  2018-01-01         1     41  ART._HYGIENIC   \n",
       "3  2018-01-01         1     55  ART._HYGIENIC   \n",
       "4  2018-01-01         1     54  ART._HYGIENIC   \n",
       "\n",
       "                                name quantity  unit_cogs   sunrise    sunset  \\\n",
       "0           BELLA HERBS 12 Z WERBENA        1       2.39  08:52:00  16:31:00   \n",
       "1            BELLA PODPASKI BLUE MAX        2       2.85  08:52:00  16:31:00   \n",
       "2  BELLA PODPASKI NORMAL 20 B/SKRZYD        2       1.76  08:52:00  16:31:00   \n",
       "3      BELLA PODPASKI NORMAL MAXI 10        4       2.14  08:52:00  16:31:00   \n",
       "4        BELLA PODPASKI NOVA MAXI 10        1       2.66  08:52:00  16:31:00   \n",
       "\n",
       "  HeatIndexC  cloudcover  humidity  tempC  Avgtemp  Unnamed: 14  \n",
       "0          6          79        89      8      5.5          NaN  \n",
       "1          6          79        89      8      5.5          NaN  \n",
       "2          6          79        89      8      5.5          NaN  \n",
       "3          6          79        89      8      5.5          NaN  \n",
       "4          6          79        89      8      5.5          NaN  "
      ]
     },
     "execution_count": 23,
     "metadata": {},
     "output_type": "execute_result"
    }
   ],
   "source": [
    "df_master.head()"
   ]
  },
  {
   "cell_type": "code",
   "execution_count": 24,
   "metadata": {},
   "outputs": [],
   "source": [
    "df=df_master.copy()"
   ]
  },
  {
   "cell_type": "markdown",
   "metadata": {},
   "source": [
    "df"
   ]
  },
  {
   "cell_type": "code",
   "execution_count": 25,
   "metadata": {},
   "outputs": [
    {
     "data": {
      "text/plain": [
       "array(['ART._HYGIENIC', 'ARTICLE_OF_HOUSEHOLD', 'BEER', 'BREAD',\n",
       "       'CANNED_PATE', 'CHEMISTRY', 'CHEWING_GUM_LOLIPOPS', 'CHIPS_FLAKES',\n",
       "       'CIGARETTES', 'COFFEE TEA', 'COOKIES_BULK', 'DAIRY_CHESSE',\n",
       "       'DISHES_FOR_CHILDREN', 'DRINK_JUICE', 'EGGS', 'FISH', 'GENERAL',\n",
       "       'GENERAL_FOOD', 'GROATS_RICE_PASTA', 'ICE_CREAMS_FROZEN',\n",
       "       'KETCH_CONCETRATE_MUSTARD_MAJO_HORSERADISH', 'LUNCH DINING DISHES',\n",
       "       'MEAT', 'MILK', 'OCCASIONAL', 'OILS', 'PACKAGES', \"PET'S FOOD\",\n",
       "       'PHONES_ADJUSTMENTS', 'SOCKS_THIGHTS', 'SPICES', 'SWEETS',\n",
       "       'TABLETS', 'VEGETABLES', 'VODKA_ALCOHOL', 'WINE_ALCOHOL 18%'],\n",
       "      dtype=object)"
      ]
     },
     "execution_count": 25,
     "metadata": {},
     "output_type": "execute_result"
    }
   ],
   "source": [
    "df[\"group\"].unique()"
   ]
  },
  {
   "cell_type": "code",
   "execution_count": 26,
   "metadata": {
    "scrolled": true
   },
   "outputs": [
    {
     "data": {
      "text/plain": [
       "SWEETS                                       2298\n",
       "DAIRY_CHESSE                                 2297\n",
       "CHEMISTRY                                    2152\n",
       "DRINK_JUICE                                  2044\n",
       "GENERAL_FOOD                                 1956\n",
       "ICE_CREAMS_FROZEN                            1334\n",
       "VEGETABLES                                    940\n",
       "GENERAL                                       905\n",
       "BEER                                          900\n",
       "KETCH_CONCETRATE_MUSTARD_MAJO_HORSERADISH     877\n",
       "CIGARETTES                                    850\n",
       "SPICES                                        775\n",
       "GROATS_RICE_PASTA                             635\n",
       "VODKA_ALCOHOL                                 627\n",
       "CHIPS_FLAKES                                  509\n",
       "COFFEE TEA                                    482\n",
       "BREAD                                         461\n",
       "MEAT                                          427\n",
       "FISH                                          373\n",
       "CANNED_PATE                                   361\n",
       "CHEWING_GUM_LOLIPOPS                          332\n",
       "WINE_ALCOHOL 18%                              280\n",
       "TABLETS                                       265\n",
       "COOKIES_BULK                                  214\n",
       "OCCASIONAL                                    204\n",
       "OILS                                          170\n",
       "SOCKS_THIGHTS                                 165\n",
       "ART._HYGIENIC                                 101\n",
       "PET'S FOOD                                     69\n",
       "DISHES_FOR_CHILDREN                            37\n",
       "LUNCH DINING DISHES                            36\n",
       "PHONES_ADJUSTMENTS                             35\n",
       "ARTICLE_OF_HOUSEHOLD                           24\n",
       "EGGS                                           24\n",
       "PACKAGES                                       20\n",
       "MILK                                            1\n",
       "Name: group, dtype: int64"
      ]
     },
     "execution_count": 26,
     "metadata": {},
     "output_type": "execute_result"
    }
   ],
   "source": [
    "df[\"group\"].value_counts()"
   ]
  },
  {
   "cell_type": "code",
   "execution_count": 27,
   "metadata": {},
   "outputs": [
    {
     "data": {
      "text/plain": [
       "36"
      ]
     },
     "execution_count": 27,
     "metadata": {},
     "output_type": "execute_result"
    }
   ],
   "source": [
    "len(df[\"group\"].value_counts())"
   ]
  },
  {
   "cell_type": "code",
   "execution_count": 28,
   "metadata": {},
   "outputs": [],
   "source": [
    "group_counts=[df[\"group\"].value_counts()]"
   ]
  },
  {
   "cell_type": "code",
   "execution_count": 29,
   "metadata": {
    "scrolled": true
   },
   "outputs": [
    {
     "data": {
      "text/plain": [
       "[SWEETS                                       2298\n",
       " DAIRY_CHESSE                                 2297\n",
       " CHEMISTRY                                    2152\n",
       " DRINK_JUICE                                  2044\n",
       " GENERAL_FOOD                                 1956\n",
       " ICE_CREAMS_FROZEN                            1334\n",
       " VEGETABLES                                    940\n",
       " GENERAL                                       905\n",
       " BEER                                          900\n",
       " KETCH_CONCETRATE_MUSTARD_MAJO_HORSERADISH     877\n",
       " CIGARETTES                                    850\n",
       " SPICES                                        775\n",
       " GROATS_RICE_PASTA                             635\n",
       " VODKA_ALCOHOL                                 627\n",
       " CHIPS_FLAKES                                  509\n",
       " COFFEE TEA                                    482\n",
       " BREAD                                         461\n",
       " MEAT                                          427\n",
       " FISH                                          373\n",
       " CANNED_PATE                                   361\n",
       " CHEWING_GUM_LOLIPOPS                          332\n",
       " WINE_ALCOHOL 18%                              280\n",
       " TABLETS                                       265\n",
       " COOKIES_BULK                                  214\n",
       " OCCASIONAL                                    204\n",
       " OILS                                          170\n",
       " SOCKS_THIGHTS                                 165\n",
       " ART._HYGIENIC                                 101\n",
       " PET'S FOOD                                     69\n",
       " DISHES_FOR_CHILDREN                            37\n",
       " LUNCH DINING DISHES                            36\n",
       " PHONES_ADJUSTMENTS                             35\n",
       " ARTICLE_OF_HOUSEHOLD                           24\n",
       " EGGS                                           24\n",
       " PACKAGES                                       20\n",
       " MILK                                            1\n",
       " Name: group, dtype: int64]"
      ]
     },
     "execution_count": 29,
     "metadata": {},
     "output_type": "execute_result"
    }
   ],
   "source": [
    "group_counts"
   ]
  },
  {
   "cell_type": "code",
   "execution_count": 30,
   "metadata": {},
   "outputs": [],
   "source": [
    "def drop_lessgroups(groups):\n",
    "    for group in groups:\n",
    "        if group < 200:\n",
    "            print(group)"
   ]
  },
  {
   "cell_type": "code",
   "execution_count": 31,
   "metadata": {},
   "outputs": [
    {
     "data": {
      "text/plain": [
       "pandas.core.frame.DataFrame"
      ]
     },
     "execution_count": 31,
     "metadata": {},
     "output_type": "execute_result"
    }
   ],
   "source": [
    "type(df)"
   ]
  },
  {
   "cell_type": "code",
   "execution_count": 32,
   "metadata": {},
   "outputs": [],
   "source": [
    "df.replace(['WINE_ALCOHOL 18%', 'BEER','VODKA','VODKA_ALCOHOL'], ['ALCOHOL','ALCOHOL','ALCOHOL','ALCOHOL'], inplace=True)\n"
   ]
  },
  {
   "cell_type": "code",
   "execution_count": 34,
   "metadata": {},
   "outputs": [
    {
     "data": {
      "text/plain": [
       "34"
      ]
     },
     "execution_count": 34,
     "metadata": {},
     "output_type": "execute_result"
    }
   ],
   "source": [
    "len(df[\"group\"].value_counts())"
   ]
  },
  {
   "cell_type": "code",
   "execution_count": 35,
   "metadata": {
    "scrolled": true
   },
   "outputs": [
    {
     "data": {
      "text/plain": [
       "SWEETS                                       2298\n",
       "DAIRY_CHESSE                                 2297\n",
       "CHEMISTRY                                    2152\n",
       "DRINK_JUICE                                  2044\n",
       "GENERAL_FOOD                                 1956\n",
       "ALCOHOL                                      1807\n",
       "ICE_CREAMS_FROZEN                            1334\n",
       "VEGETABLES                                    940\n",
       "GENERAL                                       905\n",
       "KETCH_CONCETRATE_MUSTARD_MAJO_HORSERADISH     877\n",
       "CIGARETTES                                    850\n",
       "SPICES                                        775\n",
       "GROATS_RICE_PASTA                             635\n",
       "CHIPS_FLAKES                                  509\n",
       "COFFEE TEA                                    482\n",
       "BREAD                                         461\n",
       "MEAT                                          427\n",
       "FISH                                          373\n",
       "CANNED_PATE                                   361\n",
       "CHEWING_GUM_LOLIPOPS                          332\n",
       "TABLETS                                       265\n",
       "COOKIES_BULK                                  214\n",
       "OCCASIONAL                                    204\n",
       "OILS                                          170\n",
       "SOCKS_THIGHTS                                 165\n",
       "ART._HYGIENIC                                 101\n",
       "PET'S FOOD                                     69\n",
       "DISHES_FOR_CHILDREN                            37\n",
       "LUNCH DINING DISHES                            36\n",
       "PHONES_ADJUSTMENTS                             35\n",
       "ARTICLE_OF_HOUSEHOLD                           24\n",
       "EGGS                                           24\n",
       "PACKAGES                                       20\n",
       "MILK                                            1\n",
       "Name: group, dtype: int64"
      ]
     },
     "execution_count": 35,
     "metadata": {},
     "output_type": "execute_result"
    }
   ],
   "source": [
    "df[\"group\"].value_counts()"
   ]
  },
  {
   "cell_type": "code",
   "execution_count": 36,
   "metadata": {},
   "outputs": [],
   "source": [
    "df.replace(['MEAT', 'FISH','CANNED_PATE','EGGS'], ['POULTRY','POULTRY','POULTRY','POULTRY'], inplace=True)\n"
   ]
  },
  {
   "cell_type": "code",
   "execution_count": 38,
   "metadata": {},
   "outputs": [
    {
     "data": {
      "text/plain": [
       "31"
      ]
     },
     "execution_count": 38,
     "metadata": {},
     "output_type": "execute_result"
    }
   ],
   "source": [
    "len(df[\"group\"].value_counts())"
   ]
  },
  {
   "cell_type": "code",
   "execution_count": 39,
   "metadata": {
    "scrolled": false
   },
   "outputs": [
    {
     "data": {
      "text/plain": [
       "SWEETS                                       2298\n",
       "DAIRY_CHESSE                                 2297\n",
       "CHEMISTRY                                    2152\n",
       "DRINK_JUICE                                  2044\n",
       "GENERAL_FOOD                                 1956\n",
       "ALCOHOL                                      1807\n",
       "ICE_CREAMS_FROZEN                            1334\n",
       "POULTRY                                      1185\n",
       "VEGETABLES                                    940\n",
       "GENERAL                                       905\n",
       "KETCH_CONCETRATE_MUSTARD_MAJO_HORSERADISH     877\n",
       "CIGARETTES                                    850\n",
       "SPICES                                        775\n",
       "GROATS_RICE_PASTA                             635\n",
       "CHIPS_FLAKES                                  509\n",
       "COFFEE TEA                                    482\n",
       "BREAD                                         461\n",
       "CHEWING_GUM_LOLIPOPS                          332\n",
       "TABLETS                                       265\n",
       "COOKIES_BULK                                  214\n",
       "OCCASIONAL                                    204\n",
       "OILS                                          170\n",
       "SOCKS_THIGHTS                                 165\n",
       "ART._HYGIENIC                                 101\n",
       "PET'S FOOD                                     69\n",
       "DISHES_FOR_CHILDREN                            37\n",
       "LUNCH DINING DISHES                            36\n",
       "PHONES_ADJUSTMENTS                             35\n",
       "ARTICLE_OF_HOUSEHOLD                           24\n",
       "PACKAGES                                       20\n",
       "MILK                                            1\n",
       "Name: group, dtype: int64"
      ]
     },
     "execution_count": 39,
     "metadata": {},
     "output_type": "execute_result"
    }
   ],
   "source": [
    "(df[\"group\"].value_counts())"
   ]
  },
  {
   "cell_type": "code",
   "execution_count": 53,
   "metadata": {},
   "outputs": [],
   "source": [
    "def merge(data):\n",
    "    for group in data[\"group\"]:\n",
    "        if group.value_counts() < 200:\n",
    "            df.replace(group, ['GENERAL'], inplace=True)  "
   ]
  },
  {
   "cell_type": "code",
   "execution_count": 54,
   "metadata": {},
   "outputs": [
    {
     "ename": "AttributeError",
     "evalue": "'str' object has no attribute 'value_counts'",
     "output_type": "error",
     "traceback": [
      "\u001b[0;31m---------------------------------------------------------------------------\u001b[0m",
      "\u001b[0;31mAttributeError\u001b[0m                            Traceback (most recent call last)",
      "\u001b[0;32m<ipython-input-54-ce4a6a25f10b>\u001b[0m in \u001b[0;36m<module>\u001b[0;34m\u001b[0m\n\u001b[0;32m----> 1\u001b[0;31m \u001b[0mmerge\u001b[0m\u001b[0;34m(\u001b[0m\u001b[0mdf\u001b[0m\u001b[0;34m)\u001b[0m\u001b[0;34m\u001b[0m\u001b[0;34m\u001b[0m\u001b[0m\n\u001b[0m",
      "\u001b[0;32m<ipython-input-53-dbc49e9535f1>\u001b[0m in \u001b[0;36mmerge\u001b[0;34m(data)\u001b[0m\n\u001b[1;32m      1\u001b[0m \u001b[0;32mdef\u001b[0m \u001b[0mmerge\u001b[0m\u001b[0;34m(\u001b[0m\u001b[0mdata\u001b[0m\u001b[0;34m)\u001b[0m\u001b[0;34m:\u001b[0m\u001b[0;34m\u001b[0m\u001b[0;34m\u001b[0m\u001b[0m\n\u001b[1;32m      2\u001b[0m     \u001b[0;32mfor\u001b[0m \u001b[0mgroup\u001b[0m \u001b[0;32min\u001b[0m \u001b[0mdata\u001b[0m\u001b[0;34m[\u001b[0m\u001b[0;34m\"group\"\u001b[0m\u001b[0;34m]\u001b[0m\u001b[0;34m:\u001b[0m\u001b[0;34m\u001b[0m\u001b[0;34m\u001b[0m\u001b[0m\n\u001b[0;32m----> 3\u001b[0;31m         \u001b[0;32mif\u001b[0m \u001b[0mgroup\u001b[0m\u001b[0;34m.\u001b[0m\u001b[0mvalue_counts\u001b[0m\u001b[0;34m(\u001b[0m\u001b[0;34m)\u001b[0m \u001b[0;34m<\u001b[0m \u001b[0;36m200\u001b[0m\u001b[0;34m:\u001b[0m\u001b[0;34m\u001b[0m\u001b[0;34m\u001b[0m\u001b[0m\n\u001b[0m\u001b[1;32m      4\u001b[0m             \u001b[0mdf\u001b[0m\u001b[0;34m.\u001b[0m\u001b[0mreplace\u001b[0m\u001b[0;34m(\u001b[0m\u001b[0mgroup\u001b[0m\u001b[0;34m,\u001b[0m \u001b[0;34m[\u001b[0m\u001b[0;34m'GENERAL'\u001b[0m\u001b[0;34m]\u001b[0m\u001b[0;34m,\u001b[0m \u001b[0minplace\u001b[0m\u001b[0;34m=\u001b[0m\u001b[0;32mTrue\u001b[0m\u001b[0;34m)\u001b[0m\u001b[0;34m\u001b[0m\u001b[0;34m\u001b[0m\u001b[0m\n",
      "\u001b[0;31mAttributeError\u001b[0m: 'str' object has no attribute 'value_counts'"
     ]
    }
   ],
   "source": [
    "merge(df)"
   ]
  },
  {
   "cell_type": "code",
   "execution_count": null,
   "metadata": {},
   "outputs": [],
   "source": []
  }
 ],
 "metadata": {
  "kernelspec": {
   "display_name": "Python 3",
   "language": "python",
   "name": "python3"
  },
  "language_info": {
   "codemirror_mode": {
    "name": "ipython",
    "version": 3
   },
   "file_extension": ".py",
   "mimetype": "text/x-python",
   "name": "python",
   "nbconvert_exporter": "python",
   "pygments_lexer": "ipython3",
   "version": "3.8.2"
  }
 },
 "nbformat": 4,
 "nbformat_minor": 4
}
