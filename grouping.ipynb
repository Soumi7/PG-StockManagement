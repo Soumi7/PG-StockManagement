{
 "cells": [
  {
   "cell_type": "code",
   "execution_count": 6,
   "metadata": {},
   "outputs": [],
   "source": [
    "import pandas as pd\n",
    "import numpy as np"
   ]
  },
  {
   "cell_type": "code",
   "execution_count": 7,
   "metadata": {},
   "outputs": [],
   "source": [
    "df_master=pd.read_csv(\"final2.csv\")"
   ]
  },
  {
   "cell_type": "code",
   "execution_count": 8,
   "metadata": {},
   "outputs": [
    {
     "data": {
      "text/html": [
       "<div>\n",
       "<style scoped>\n",
       "    .dataframe tbody tr th:only-of-type {\n",
       "        vertical-align: middle;\n",
       "    }\n",
       "\n",
       "    .dataframe tbody tr th {\n",
       "        vertical-align: top;\n",
       "    }\n",
       "\n",
       "    .dataframe thead th {\n",
       "        text-align: right;\n",
       "    }\n",
       "</style>\n",
       "<table border=\"1\" class=\"dataframe\">\n",
       "  <thead>\n",
       "    <tr style=\"text-align: right;\">\n",
       "      <th></th>\n",
       "      <th>date</th>\n",
       "      <th>isholnum</th>\n",
       "      <th>sku</th>\n",
       "      <th>group</th>\n",
       "      <th>name</th>\n",
       "      <th>quantity</th>\n",
       "      <th>unit_cogs</th>\n",
       "      <th>sunrise</th>\n",
       "      <th>sunset</th>\n",
       "      <th>HeatIndexC</th>\n",
       "      <th>cloudcover</th>\n",
       "      <th>humidity</th>\n",
       "      <th>tempC</th>\n",
       "      <th>Avgtemp</th>\n",
       "      <th>Unnamed: 14</th>\n",
       "    </tr>\n",
       "  </thead>\n",
       "  <tbody>\n",
       "    <tr>\n",
       "      <th>0</th>\n",
       "      <td>2018-01-01</td>\n",
       "      <td>1</td>\n",
       "      <td>3646</td>\n",
       "      <td>ART._HYGIENIC</td>\n",
       "      <td>BELLA HERBS 12 Z WERBENA</td>\n",
       "      <td>1</td>\n",
       "      <td>2.39</td>\n",
       "      <td>08:52:00</td>\n",
       "      <td>16:31:00</td>\n",
       "      <td>6</td>\n",
       "      <td>79</td>\n",
       "      <td>89</td>\n",
       "      <td>8</td>\n",
       "      <td>5.5</td>\n",
       "      <td>NaN</td>\n",
       "    </tr>\n",
       "    <tr>\n",
       "      <th>1</th>\n",
       "      <td>2018-01-01</td>\n",
       "      <td>1</td>\n",
       "      <td>17048</td>\n",
       "      <td>ART._HYGIENIC</td>\n",
       "      <td>BELLA PODPASKI BLUE MAX</td>\n",
       "      <td>2</td>\n",
       "      <td>2.85</td>\n",
       "      <td>08:52:00</td>\n",
       "      <td>16:31:00</td>\n",
       "      <td>6</td>\n",
       "      <td>79</td>\n",
       "      <td>89</td>\n",
       "      <td>8</td>\n",
       "      <td>5.5</td>\n",
       "      <td>NaN</td>\n",
       "    </tr>\n",
       "    <tr>\n",
       "      <th>2</th>\n",
       "      <td>2018-01-01</td>\n",
       "      <td>1</td>\n",
       "      <td>41</td>\n",
       "      <td>ART._HYGIENIC</td>\n",
       "      <td>BELLA PODPASKI NORMAL 20 B/SKRZYD</td>\n",
       "      <td>2</td>\n",
       "      <td>1.76</td>\n",
       "      <td>08:52:00</td>\n",
       "      <td>16:31:00</td>\n",
       "      <td>6</td>\n",
       "      <td>79</td>\n",
       "      <td>89</td>\n",
       "      <td>8</td>\n",
       "      <td>5.5</td>\n",
       "      <td>NaN</td>\n",
       "    </tr>\n",
       "    <tr>\n",
       "      <th>3</th>\n",
       "      <td>2018-01-01</td>\n",
       "      <td>1</td>\n",
       "      <td>55</td>\n",
       "      <td>ART._HYGIENIC</td>\n",
       "      <td>BELLA PODPASKI NORMAL MAXI 10</td>\n",
       "      <td>4</td>\n",
       "      <td>2.14</td>\n",
       "      <td>08:52:00</td>\n",
       "      <td>16:31:00</td>\n",
       "      <td>6</td>\n",
       "      <td>79</td>\n",
       "      <td>89</td>\n",
       "      <td>8</td>\n",
       "      <td>5.5</td>\n",
       "      <td>NaN</td>\n",
       "    </tr>\n",
       "    <tr>\n",
       "      <th>4</th>\n",
       "      <td>2018-01-01</td>\n",
       "      <td>1</td>\n",
       "      <td>54</td>\n",
       "      <td>ART._HYGIENIC</td>\n",
       "      <td>BELLA PODPASKI NOVA MAXI 10</td>\n",
       "      <td>1</td>\n",
       "      <td>2.66</td>\n",
       "      <td>08:52:00</td>\n",
       "      <td>16:31:00</td>\n",
       "      <td>6</td>\n",
       "      <td>79</td>\n",
       "      <td>89</td>\n",
       "      <td>8</td>\n",
       "      <td>5.5</td>\n",
       "      <td>NaN</td>\n",
       "    </tr>\n",
       "  </tbody>\n",
       "</table>\n",
       "</div>"
      ],
      "text/plain": [
       "         date  isholnum    sku          group  \\\n",
       "0  2018-01-01         1   3646  ART._HYGIENIC   \n",
       "1  2018-01-01         1  17048  ART._HYGIENIC   \n",
       "2  2018-01-01         1     41  ART._HYGIENIC   \n",
       "3  2018-01-01         1     55  ART._HYGIENIC   \n",
       "4  2018-01-01         1     54  ART._HYGIENIC   \n",
       "\n",
       "                                name quantity  unit_cogs   sunrise    sunset  \\\n",
       "0           BELLA HERBS 12 Z WERBENA        1       2.39  08:52:00  16:31:00   \n",
       "1            BELLA PODPASKI BLUE MAX        2       2.85  08:52:00  16:31:00   \n",
       "2  BELLA PODPASKI NORMAL 20 B/SKRZYD        2       1.76  08:52:00  16:31:00   \n",
       "3      BELLA PODPASKI NORMAL MAXI 10        4       2.14  08:52:00  16:31:00   \n",
       "4        BELLA PODPASKI NOVA MAXI 10        1       2.66  08:52:00  16:31:00   \n",
       "\n",
       "  HeatIndexC  cloudcover  humidity  tempC  Avgtemp  Unnamed: 14  \n",
       "0          6          79        89      8      5.5          NaN  \n",
       "1          6          79        89      8      5.5          NaN  \n",
       "2          6          79        89      8      5.5          NaN  \n",
       "3          6          79        89      8      5.5          NaN  \n",
       "4          6          79        89      8      5.5          NaN  "
      ]
     },
     "execution_count": 8,
     "metadata": {},
     "output_type": "execute_result"
    }
   ],
   "source": [
    "df_master.head()"
   ]
  },
  {
   "cell_type": "code",
   "execution_count": 9,
   "metadata": {},
   "outputs": [],
   "source": [
    "df=df_master.copy()"
   ]
  },
  {
   "cell_type": "markdown",
   "metadata": {},
   "source": [
    "df"
   ]
  },
  {
   "cell_type": "code",
   "execution_count": 10,
   "metadata": {},
   "outputs": [
    {
     "data": {
      "text/plain": [
       "array(['ART._HYGIENIC', 'ARTICLE_OF_HOUSEHOLD', 'BEER', 'BREAD',\n",
       "       'CANNED_PATE', 'CHEMISTRY', 'CHEWING_GUM_LOLIPOPS', 'CHIPS_FLAKES',\n",
       "       'CIGARETTES', 'COFFEE TEA', 'COOKIES_BULK', 'DAIRY_CHESSE',\n",
       "       'DISHES_FOR_CHILDREN', 'DRINK_JUICE', 'EGGS', 'FISH', 'GENERAL',\n",
       "       'GENERAL_FOOD', 'GROATS_RICE_PASTA', 'ICE_CREAMS_FROZEN',\n",
       "       'KETCH_CONCETRATE_MUSTARD_MAJO_HORSERADISH', 'LUNCH DINING DISHES',\n",
       "       'MEAT', 'MILK', 'OCCASIONAL', 'OILS', 'PACKAGES', \"PET'S FOOD\",\n",
       "       'PHONES_ADJUSTMENTS', 'SOCKS_THIGHTS', 'SPICES', 'SWEETS',\n",
       "       'TABLETS', 'VEGETABLES', 'VODKA_ALCOHOL', 'WINE_ALCOHOL 18%'],\n",
       "      dtype=object)"
      ]
     },
     "execution_count": 10,
     "metadata": {},
     "output_type": "execute_result"
    }
   ],
   "source": [
    "df[\"group\"].unique()"
   ]
  },
  {
   "cell_type": "code",
   "execution_count": 11,
   "metadata": {
    "scrolled": true
   },
   "outputs": [
    {
     "data": {
      "text/plain": [
       "SWEETS                                       2298\n",
       "DAIRY_CHESSE                                 2297\n",
       "CHEMISTRY                                    2152\n",
       "DRINK_JUICE                                  2044\n",
       "GENERAL_FOOD                                 1956\n",
       "ICE_CREAMS_FROZEN                            1334\n",
       "VEGETABLES                                    940\n",
       "GENERAL                                       905\n",
       "BEER                                          900\n",
       "KETCH_CONCETRATE_MUSTARD_MAJO_HORSERADISH     877\n",
       "CIGARETTES                                    850\n",
       "SPICES                                        775\n",
       "GROATS_RICE_PASTA                             635\n",
       "VODKA_ALCOHOL                                 627\n",
       "CHIPS_FLAKES                                  509\n",
       "COFFEE TEA                                    482\n",
       "BREAD                                         461\n",
       "MEAT                                          427\n",
       "FISH                                          373\n",
       "CANNED_PATE                                   361\n",
       "CHEWING_GUM_LOLIPOPS                          332\n",
       "WINE_ALCOHOL 18%                              280\n",
       "TABLETS                                       265\n",
       "COOKIES_BULK                                  214\n",
       "OCCASIONAL                                    204\n",
       "OILS                                          170\n",
       "SOCKS_THIGHTS                                 165\n",
       "ART._HYGIENIC                                 101\n",
       "PET'S FOOD                                     69\n",
       "DISHES_FOR_CHILDREN                            37\n",
       "LUNCH DINING DISHES                            36\n",
       "PHONES_ADJUSTMENTS                             35\n",
       "ARTICLE_OF_HOUSEHOLD                           24\n",
       "EGGS                                           24\n",
       "PACKAGES                                       20\n",
       "MILK                                            1\n",
       "Name: group, dtype: int64"
      ]
     },
     "execution_count": 11,
     "metadata": {},
     "output_type": "execute_result"
    }
   ],
   "source": [
    "df[\"group\"].value_counts()"
   ]
  },
  {
   "cell_type": "code",
   "execution_count": 12,
   "metadata": {},
   "outputs": [
    {
     "data": {
      "text/plain": [
       "36"
      ]
     },
     "execution_count": 12,
     "metadata": {},
     "output_type": "execute_result"
    }
   ],
   "source": [
    "len(df[\"group\"].value_counts())"
   ]
  },
  {
   "cell_type": "code",
   "execution_count": 13,
   "metadata": {},
   "outputs": [],
   "source": [
    "group_counts=[df[\"group\"].value_counts()]"
   ]
  },
  {
   "cell_type": "code",
   "execution_count": 14,
   "metadata": {
    "scrolled": true
   },
   "outputs": [
    {
     "data": {
      "text/plain": [
       "[SWEETS                                       2298\n",
       " DAIRY_CHESSE                                 2297\n",
       " CHEMISTRY                                    2152\n",
       " DRINK_JUICE                                  2044\n",
       " GENERAL_FOOD                                 1956\n",
       " ICE_CREAMS_FROZEN                            1334\n",
       " VEGETABLES                                    940\n",
       " GENERAL                                       905\n",
       " BEER                                          900\n",
       " KETCH_CONCETRATE_MUSTARD_MAJO_HORSERADISH     877\n",
       " CIGARETTES                                    850\n",
       " SPICES                                        775\n",
       " GROATS_RICE_PASTA                             635\n",
       " VODKA_ALCOHOL                                 627\n",
       " CHIPS_FLAKES                                  509\n",
       " COFFEE TEA                                    482\n",
       " BREAD                                         461\n",
       " MEAT                                          427\n",
       " FISH                                          373\n",
       " CANNED_PATE                                   361\n",
       " CHEWING_GUM_LOLIPOPS                          332\n",
       " WINE_ALCOHOL 18%                              280\n",
       " TABLETS                                       265\n",
       " COOKIES_BULK                                  214\n",
       " OCCASIONAL                                    204\n",
       " OILS                                          170\n",
       " SOCKS_THIGHTS                                 165\n",
       " ART._HYGIENIC                                 101\n",
       " PET'S FOOD                                     69\n",
       " DISHES_FOR_CHILDREN                            37\n",
       " LUNCH DINING DISHES                            36\n",
       " PHONES_ADJUSTMENTS                             35\n",
       " ARTICLE_OF_HOUSEHOLD                           24\n",
       " EGGS                                           24\n",
       " PACKAGES                                       20\n",
       " MILK                                            1\n",
       " Name: group, dtype: int64]"
      ]
     },
     "execution_count": 14,
     "metadata": {},
     "output_type": "execute_result"
    }
   ],
   "source": [
    "group_counts"
   ]
  },
  {
   "cell_type": "code",
   "execution_count": 25,
   "metadata": {},
   "outputs": [],
   "source": [
    "def drop_lessgroups(groups):\n",
    "    for group in groups:\n",
    "#         if int(group) < 200:\n",
    "            print(group.value_counts())"
   ]
  },
  {
   "cell_type": "code",
   "execution_count": 26,
   "metadata": {},
   "outputs": [
    {
     "ename": "AttributeError",
     "evalue": "'str' object has no attribute 'value_counts'",
     "output_type": "error",
     "traceback": [
      "\u001b[0;31m---------------------------------------------------------------------------\u001b[0m",
      "\u001b[0;31mAttributeError\u001b[0m                            Traceback (most recent call last)",
      "\u001b[0;32m<ipython-input-26-ba1bcdd0b7d4>\u001b[0m in \u001b[0;36m<module>\u001b[0;34m\u001b[0m\n\u001b[0;32m----> 1\u001b[0;31m \u001b[0mdrop_lessgroups\u001b[0m\u001b[0;34m(\u001b[0m\u001b[0mdf\u001b[0m\u001b[0;34m[\u001b[0m\u001b[0;34m\"group\"\u001b[0m\u001b[0;34m]\u001b[0m\u001b[0;34m)\u001b[0m\u001b[0;34m\u001b[0m\u001b[0;34m\u001b[0m\u001b[0m\n\u001b[0m",
      "\u001b[0;32m<ipython-input-25-28a317fd77dd>\u001b[0m in \u001b[0;36mdrop_lessgroups\u001b[0;34m(groups)\u001b[0m\n\u001b[1;32m      2\u001b[0m     \u001b[0;32mfor\u001b[0m \u001b[0mgroup\u001b[0m \u001b[0;32min\u001b[0m \u001b[0mgroups\u001b[0m\u001b[0;34m:\u001b[0m\u001b[0;34m\u001b[0m\u001b[0;34m\u001b[0m\u001b[0m\n\u001b[1;32m      3\u001b[0m \u001b[0;31m#         if int(group) < 200:\u001b[0m\u001b[0;34m\u001b[0m\u001b[0;34m\u001b[0m\u001b[0;34m\u001b[0m\u001b[0m\n\u001b[0;32m----> 4\u001b[0;31m             \u001b[0mprint\u001b[0m\u001b[0;34m(\u001b[0m\u001b[0mgroup\u001b[0m\u001b[0;34m.\u001b[0m\u001b[0mvalue_counts\u001b[0m\u001b[0;34m(\u001b[0m\u001b[0;34m)\u001b[0m\u001b[0;34m)\u001b[0m\u001b[0;34m\u001b[0m\u001b[0;34m\u001b[0m\u001b[0m\n\u001b[0m",
      "\u001b[0;31mAttributeError\u001b[0m: 'str' object has no attribute 'value_counts'"
     ]
    }
   ],
   "source": [
    "drop_lessgroups(df[\"group\"])"
   ]
  },
  {
   "cell_type": "code",
   "execution_count": 34,
   "metadata": {},
   "outputs": [],
   "source": [
    "df.replace(['WINE_ALCOHOL 18%', 'BEER','VODKA','VODKA_ALCOHOL'], ['ALCOHOL','ALCOHOL','ALCOHOL','ALCOHOL'], inplace=True)\n"
   ]
  },
  {
   "cell_type": "code",
   "execution_count": 35,
   "metadata": {},
   "outputs": [
    {
     "data": {
      "text/plain": [
       "34"
      ]
     },
     "execution_count": 35,
     "metadata": {},
     "output_type": "execute_result"
    }
   ],
   "source": [
    "len(df[\"group\"].value_counts())"
   ]
  },
  {
   "cell_type": "code",
   "execution_count": 36,
   "metadata": {
    "scrolled": true
   },
   "outputs": [
    {
     "data": {
      "text/plain": [
       "SWEETS                                       2298\n",
       "DAIRY_CHESSE                                 2297\n",
       "CHEMISTRY                                    2152\n",
       "DRINK_JUICE                                  2044\n",
       "GENERAL_FOOD                                 1956\n",
       "ALCOHOL                                      1807\n",
       "ICE_CREAMS_FROZEN                            1334\n",
       "VEGETABLES                                    940\n",
       "GENERAL                                       905\n",
       "KETCH_CONCETRATE_MUSTARD_MAJO_HORSERADISH     877\n",
       "CIGARETTES                                    850\n",
       "SPICES                                        775\n",
       "GROATS_RICE_PASTA                             635\n",
       "CHIPS_FLAKES                                  509\n",
       "COFFEE TEA                                    482\n",
       "BREAD                                         461\n",
       "MEAT                                          427\n",
       "FISH                                          373\n",
       "CANNED_PATE                                   361\n",
       "CHEWING_GUM_LOLIPOPS                          332\n",
       "TABLETS                                       265\n",
       "COOKIES_BULK                                  214\n",
       "OCCASIONAL                                    204\n",
       "OILS                                          170\n",
       "SOCKS_THIGHTS                                 165\n",
       "ART._HYGIENIC                                 101\n",
       "PET'S FOOD                                     69\n",
       "DISHES_FOR_CHILDREN                            37\n",
       "LUNCH DINING DISHES                            36\n",
       "PHONES_ADJUSTMENTS                             35\n",
       "ARTICLE_OF_HOUSEHOLD                           24\n",
       "EGGS                                           24\n",
       "PACKAGES                                       20\n",
       "MILK                                            1\n",
       "Name: group, dtype: int64"
      ]
     },
     "execution_count": 36,
     "metadata": {},
     "output_type": "execute_result"
    }
   ],
   "source": [
    "df[\"group\"].value_counts()"
   ]
  },
  {
   "cell_type": "code",
   "execution_count": 37,
   "metadata": {},
   "outputs": [],
   "source": [
    "df.replace(['MEAT', 'FISH','CANNED_PATE','EGGS'], ['POULTRY','POULTRY','POULTRY','POULTRY'], inplace=True)\n"
   ]
  },
  {
   "cell_type": "code",
   "execution_count": 38,
   "metadata": {},
   "outputs": [
    {
     "data": {
      "text/plain": [
       "31"
      ]
     },
     "execution_count": 38,
     "metadata": {},
     "output_type": "execute_result"
    }
   ],
   "source": [
    "len(df[\"group\"].value_counts())"
   ]
  },
  {
   "cell_type": "code",
   "execution_count": 39,
   "metadata": {
    "scrolled": false
   },
   "outputs": [
    {
     "data": {
      "text/plain": [
       "SWEETS                                       2298\n",
       "DAIRY_CHESSE                                 2297\n",
       "CHEMISTRY                                    2152\n",
       "DRINK_JUICE                                  2044\n",
       "GENERAL_FOOD                                 1956\n",
       "ALCOHOL                                      1807\n",
       "ICE_CREAMS_FROZEN                            1334\n",
       "POULTRY                                      1185\n",
       "VEGETABLES                                    940\n",
       "GENERAL                                       905\n",
       "KETCH_CONCETRATE_MUSTARD_MAJO_HORSERADISH     877\n",
       "CIGARETTES                                    850\n",
       "SPICES                                        775\n",
       "GROATS_RICE_PASTA                             635\n",
       "CHIPS_FLAKES                                  509\n",
       "COFFEE TEA                                    482\n",
       "BREAD                                         461\n",
       "CHEWING_GUM_LOLIPOPS                          332\n",
       "TABLETS                                       265\n",
       "COOKIES_BULK                                  214\n",
       "OCCASIONAL                                    204\n",
       "OILS                                          170\n",
       "SOCKS_THIGHTS                                 165\n",
       "ART._HYGIENIC                                 101\n",
       "PET'S FOOD                                     69\n",
       "DISHES_FOR_CHILDREN                            37\n",
       "LUNCH DINING DISHES                            36\n",
       "PHONES_ADJUSTMENTS                             35\n",
       "ARTICLE_OF_HOUSEHOLD                           24\n",
       "PACKAGES                                       20\n",
       "MILK                                            1\n",
       "Name: group, dtype: int64"
      ]
     },
     "execution_count": 39,
     "metadata": {},
     "output_type": "execute_result"
    }
   ],
   "source": [
    "df[\"group\"].value_counts()"
   ]
  },
  {
   "cell_type": "code",
   "execution_count": 27,
   "metadata": {},
   "outputs": [],
   "source": [
    "groups_df=df.groupby(df[\"group\"])"
   ]
  },
  {
   "cell_type": "code",
   "execution_count": 28,
   "metadata": {},
   "outputs": [
    {
     "data": {
      "text/html": [
       "<div>\n",
       "<style scoped>\n",
       "    .dataframe tbody tr th:only-of-type {\n",
       "        vertical-align: middle;\n",
       "    }\n",
       "\n",
       "    .dataframe tbody tr th {\n",
       "        vertical-align: top;\n",
       "    }\n",
       "\n",
       "    .dataframe thead th {\n",
       "        text-align: right;\n",
       "    }\n",
       "</style>\n",
       "<table border=\"1\" class=\"dataframe\">\n",
       "  <thead>\n",
       "    <tr style=\"text-align: right;\">\n",
       "      <th></th>\n",
       "      <th>date</th>\n",
       "      <th>isholnum</th>\n",
       "      <th>sku</th>\n",
       "      <th>group</th>\n",
       "      <th>name</th>\n",
       "      <th>quantity</th>\n",
       "      <th>unit_cogs</th>\n",
       "      <th>sunrise</th>\n",
       "      <th>sunset</th>\n",
       "      <th>HeatIndexC</th>\n",
       "      <th>cloudcover</th>\n",
       "      <th>humidity</th>\n",
       "      <th>tempC</th>\n",
       "      <th>Avgtemp</th>\n",
       "      <th>Unnamed: 14</th>\n",
       "    </tr>\n",
       "  </thead>\n",
       "  <tbody>\n",
       "    <tr>\n",
       "      <th>0</th>\n",
       "      <td>2018-01-01</td>\n",
       "      <td>1</td>\n",
       "      <td>3646</td>\n",
       "      <td>ART._HYGIENIC</td>\n",
       "      <td>BELLA HERBS 12 Z WERBENA</td>\n",
       "      <td>1</td>\n",
       "      <td>2.390000</td>\n",
       "      <td>08:52:00</td>\n",
       "      <td>16:31:00</td>\n",
       "      <td>6</td>\n",
       "      <td>79</td>\n",
       "      <td>89</td>\n",
       "      <td>8</td>\n",
       "      <td>5.5</td>\n",
       "      <td>NaN</td>\n",
       "    </tr>\n",
       "    <tr>\n",
       "      <th>1</th>\n",
       "      <td>2018-01-01</td>\n",
       "      <td>1</td>\n",
       "      <td>17048</td>\n",
       "      <td>ART._HYGIENIC</td>\n",
       "      <td>BELLA PODPASKI BLUE MAX</td>\n",
       "      <td>2</td>\n",
       "      <td>2.850000</td>\n",
       "      <td>08:52:00</td>\n",
       "      <td>16:31:00</td>\n",
       "      <td>6</td>\n",
       "      <td>79</td>\n",
       "      <td>89</td>\n",
       "      <td>8</td>\n",
       "      <td>5.5</td>\n",
       "      <td>NaN</td>\n",
       "    </tr>\n",
       "    <tr>\n",
       "      <th>2</th>\n",
       "      <td>2018-01-01</td>\n",
       "      <td>1</td>\n",
       "      <td>41</td>\n",
       "      <td>ART._HYGIENIC</td>\n",
       "      <td>BELLA PODPASKI NORMAL 20 B/SKRZYD</td>\n",
       "      <td>2</td>\n",
       "      <td>1.760000</td>\n",
       "      <td>08:52:00</td>\n",
       "      <td>16:31:00</td>\n",
       "      <td>6</td>\n",
       "      <td>79</td>\n",
       "      <td>89</td>\n",
       "      <td>8</td>\n",
       "      <td>5.5</td>\n",
       "      <td>NaN</td>\n",
       "    </tr>\n",
       "    <tr>\n",
       "      <th>3</th>\n",
       "      <td>2018-01-01</td>\n",
       "      <td>1</td>\n",
       "      <td>55</td>\n",
       "      <td>ART._HYGIENIC</td>\n",
       "      <td>BELLA PODPASKI NORMAL MAXI 10</td>\n",
       "      <td>4</td>\n",
       "      <td>2.140000</td>\n",
       "      <td>08:52:00</td>\n",
       "      <td>16:31:00</td>\n",
       "      <td>6</td>\n",
       "      <td>79</td>\n",
       "      <td>89</td>\n",
       "      <td>8</td>\n",
       "      <td>5.5</td>\n",
       "      <td>NaN</td>\n",
       "    </tr>\n",
       "    <tr>\n",
       "      <th>4</th>\n",
       "      <td>2018-01-01</td>\n",
       "      <td>1</td>\n",
       "      <td>54</td>\n",
       "      <td>ART._HYGIENIC</td>\n",
       "      <td>BELLA PODPASKI NOVA MAXI 10</td>\n",
       "      <td>1</td>\n",
       "      <td>2.660000</td>\n",
       "      <td>08:52:00</td>\n",
       "      <td>16:31:00</td>\n",
       "      <td>6</td>\n",
       "      <td>79</td>\n",
       "      <td>89</td>\n",
       "      <td>8</td>\n",
       "      <td>5.5</td>\n",
       "      <td>NaN</td>\n",
       "    </tr>\n",
       "    <tr>\n",
       "      <th>...</th>\n",
       "      <td>...</td>\n",
       "      <td>...</td>\n",
       "      <td>...</td>\n",
       "      <td>...</td>\n",
       "      <td>...</td>\n",
       "      <td>...</td>\n",
       "      <td>...</td>\n",
       "      <td>...</td>\n",
       "      <td>...</td>\n",
       "      <td>...</td>\n",
       "      <td>...</td>\n",
       "      <td>...</td>\n",
       "      <td>...</td>\n",
       "      <td>...</td>\n",
       "      <td>...</td>\n",
       "    </tr>\n",
       "    <tr>\n",
       "      <th>21333</th>\n",
       "      <td>2018-01-01</td>\n",
       "      <td>1</td>\n",
       "      <td>8404</td>\n",
       "      <td>VEGETABLES</td>\n",
       "      <td>AMINO BLYSK  ZUREK</td>\n",
       "      <td>6</td>\n",
       "      <td>0.820000</td>\n",
       "      <td>08:52:00</td>\n",
       "      <td>16:31:00</td>\n",
       "      <td>6</td>\n",
       "      <td>79</td>\n",
       "      <td>89</td>\n",
       "      <td>8</td>\n",
       "      <td>5.5</td>\n",
       "      <td>NaN</td>\n",
       "    </tr>\n",
       "    <tr>\n",
       "      <th>21334</th>\n",
       "      <td>2018-01-01</td>\n",
       "      <td>1</td>\n",
       "      <td>6483</td>\n",
       "      <td>VEGETABLES</td>\n",
       "      <td>DR POLEWA MLECZNA TWARDA</td>\n",
       "      <td>1</td>\n",
       "      <td>1.940000</td>\n",
       "      <td>08:52:00</td>\n",
       "      <td>16:31:00</td>\n",
       "      <td>6</td>\n",
       "      <td>79</td>\n",
       "      <td>89</td>\n",
       "      <td>8</td>\n",
       "      <td>5.5</td>\n",
       "      <td>NaN</td>\n",
       "    </tr>\n",
       "    <tr>\n",
       "      <th>21335</th>\n",
       "      <td>2018-01-01</td>\n",
       "      <td>1</td>\n",
       "      <td>16348</td>\n",
       "      <td>VEGETABLES</td>\n",
       "      <td>KT ANANAS</td>\n",
       "      <td>2</td>\n",
       "      <td>4.640000</td>\n",
       "      <td>08:52:00</td>\n",
       "      <td>16:31:00</td>\n",
       "      <td>6</td>\n",
       "      <td>79</td>\n",
       "      <td>89</td>\n",
       "      <td>8</td>\n",
       "      <td>5.5</td>\n",
       "      <td>NaN</td>\n",
       "    </tr>\n",
       "    <tr>\n",
       "      <th>21336</th>\n",
       "      <td>2018-01-01</td>\n",
       "      <td>1</td>\n",
       "      <td>5</td>\n",
       "      <td>VEGETABLES</td>\n",
       "      <td>KT BANAN</td>\n",
       "      <td>119.64</td>\n",
       "      <td>4.067285</td>\n",
       "      <td>08:52:00</td>\n",
       "      <td>16:31:00</td>\n",
       "      <td>6</td>\n",
       "      <td>79</td>\n",
       "      <td>89</td>\n",
       "      <td>8</td>\n",
       "      <td>5.5</td>\n",
       "      <td>NaN</td>\n",
       "    </tr>\n",
       "    <tr>\n",
       "      <th>21337</th>\n",
       "      <td>2018-01-01</td>\n",
       "      <td>1</td>\n",
       "      <td>8427</td>\n",
       "      <td>VEGETABLES</td>\n",
       "      <td>KT BROKUL</td>\n",
       "      <td>16</td>\n",
       "      <td>3.312500</td>\n",
       "      <td>08:52:00</td>\n",
       "      <td>16:31:00</td>\n",
       "      <td>6</td>\n",
       "      <td>79</td>\n",
       "      <td>89</td>\n",
       "      <td>8</td>\n",
       "      <td>5.5</td>\n",
       "      <td>NaN</td>\n",
       "    </tr>\n",
       "  </tbody>\n",
       "</table>\n",
       "<p>166 rows × 15 columns</p>\n",
       "</div>"
      ],
      "text/plain": [
       "             date  isholnum    sku          group  \\\n",
       "0      2018-01-01         1   3646  ART._HYGIENIC   \n",
       "1      2018-01-01         1  17048  ART._HYGIENIC   \n",
       "2      2018-01-01         1     41  ART._HYGIENIC   \n",
       "3      2018-01-01         1     55  ART._HYGIENIC   \n",
       "4      2018-01-01         1     54  ART._HYGIENIC   \n",
       "...           ...       ...    ...            ...   \n",
       "21333  2018-01-01         1   8404     VEGETABLES   \n",
       "21334  2018-01-01         1   6483     VEGETABLES   \n",
       "21335  2018-01-01         1  16348     VEGETABLES   \n",
       "21336  2018-01-01         1      5     VEGETABLES   \n",
       "21337  2018-01-01         1   8427     VEGETABLES   \n",
       "\n",
       "                                    name quantity  unit_cogs   sunrise  \\\n",
       "0               BELLA HERBS 12 Z WERBENA        1   2.390000  08:52:00   \n",
       "1                BELLA PODPASKI BLUE MAX        2   2.850000  08:52:00   \n",
       "2      BELLA PODPASKI NORMAL 20 B/SKRZYD        2   1.760000  08:52:00   \n",
       "3          BELLA PODPASKI NORMAL MAXI 10        4   2.140000  08:52:00   \n",
       "4            BELLA PODPASKI NOVA MAXI 10        1   2.660000  08:52:00   \n",
       "...                                  ...      ...        ...       ...   \n",
       "21333                 AMINO BLYSK  ZUREK        6   0.820000  08:52:00   \n",
       "21334           DR POLEWA MLECZNA TWARDA        1   1.940000  08:52:00   \n",
       "21335                          KT ANANAS        2   4.640000  08:52:00   \n",
       "21336                           KT BANAN   119.64   4.067285  08:52:00   \n",
       "21337                          KT BROKUL       16   3.312500  08:52:00   \n",
       "\n",
       "         sunset HeatIndexC  cloudcover  humidity  tempC  Avgtemp  Unnamed: 14  \n",
       "0      16:31:00          6          79        89      8      5.5          NaN  \n",
       "1      16:31:00          6          79        89      8      5.5          NaN  \n",
       "2      16:31:00          6          79        89      8      5.5          NaN  \n",
       "3      16:31:00          6          79        89      8      5.5          NaN  \n",
       "4      16:31:00          6          79        89      8      5.5          NaN  \n",
       "...         ...        ...         ...       ...    ...      ...          ...  \n",
       "21333  16:31:00          6          79        89      8      5.5          NaN  \n",
       "21334  16:31:00          6          79        89      8      5.5          NaN  \n",
       "21335  16:31:00          6          79        89      8      5.5          NaN  \n",
       "21336  16:31:00          6          79        89      8      5.5          NaN  \n",
       "21337  16:31:00          6          79        89      8      5.5          NaN  \n",
       "\n",
       "[166 rows x 15 columns]"
      ]
     },
     "execution_count": 28,
     "metadata": {},
     "output_type": "execute_result"
    }
   ],
   "source": [
    "groups_df.head()"
   ]
  },
  {
   "cell_type": "code",
   "execution_count": null,
   "metadata": {},
   "outputs": [],
   "source": []
  },
  {
   "cell_type": "code",
   "execution_count": null,
   "metadata": {},
   "outputs": [],
   "source": []
  },
  {
   "cell_type": "code",
   "execution_count": null,
   "metadata": {},
   "outputs": [],
   "source": []
  }
 ],
 "metadata": {
  "kernelspec": {
   "display_name": "Python 3",
   "language": "python",
   "name": "python3"
  },
  "language_info": {
   "codemirror_mode": {
    "name": "ipython",
    "version": 3
   },
   "file_extension": ".py",
   "mimetype": "text/x-python",
   "name": "python",
   "nbconvert_exporter": "python",
   "pygments_lexer": "ipython3",
   "version": "3.8.2"
  }
 },
 "nbformat": 4,
 "nbformat_minor": 4
}
