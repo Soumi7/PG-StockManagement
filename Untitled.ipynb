{
 "cells": [
  {
   "cell_type": "code",
   "execution_count": 1,
   "metadata": {},
   "outputs": [],
   "source": [
    "import pandas as pd\n",
    "import numpy as np"
   ]
  },
  {
   "cell_type": "code",
   "execution_count": 2,
   "metadata": {},
   "outputs": [],
   "source": [
    "df=pd.read_csv(\"GROUP_OF_DATASETS/SWEETS.csv\")"
   ]
  },
  {
   "cell_type": "code",
   "execution_count": 3,
   "metadata": {},
   "outputs": [
    {
     "data": {
      "text/html": [
       "<div>\n",
       "<style scoped>\n",
       "    .dataframe tbody tr th:only-of-type {\n",
       "        vertical-align: middle;\n",
       "    }\n",
       "\n",
       "    .dataframe tbody tr th {\n",
       "        vertical-align: top;\n",
       "    }\n",
       "\n",
       "    .dataframe thead th {\n",
       "        text-align: right;\n",
       "    }\n",
       "</style>\n",
       "<table border=\"1\" class=\"dataframe\">\n",
       "  <thead>\n",
       "    <tr style=\"text-align: right;\">\n",
       "      <th></th>\n",
       "      <th>Unnamed: 0</th>\n",
       "      <th>Unnamed: 0.1</th>\n",
       "      <th>date</th>\n",
       "      <th>ishol/week</th>\n",
       "      <th>group</th>\n",
       "      <th>name</th>\n",
       "      <th>quantity</th>\n",
       "      <th>unit_cogs</th>\n",
       "      <th>monthly_Avgtemp</th>\n",
       "      <th>monthly_avg_FeelsLikeC</th>\n",
       "      <th>monthly_avg_HeatIndexC</th>\n",
       "      <th>monthly_avg_cloudcover</th>\n",
       "      <th>monthly_avg_humidity</th>\n",
       "    </tr>\n",
       "  </thead>\n",
       "  <tbody>\n",
       "    <tr>\n",
       "      <th>0</th>\n",
       "      <td>1495</td>\n",
       "      <td>1495</td>\n",
       "      <td>2018-01-01</td>\n",
       "      <td>9</td>\n",
       "      <td>SWEETS</td>\n",
       "      <td>AMELIA PIANKA 380 G SMIET.CZEK</td>\n",
       "      <td>2.0</td>\n",
       "      <td>4.180000</td>\n",
       "      <td>-0.42</td>\n",
       "      <td>-4.84</td>\n",
       "      <td>1</td>\n",
       "      <td>2</td>\n",
       "      <td>82.81</td>\n",
       "    </tr>\n",
       "    <tr>\n",
       "      <th>1</th>\n",
       "      <td>1496</td>\n",
       "      <td>1496</td>\n",
       "      <td>2018-01-01</td>\n",
       "      <td>9</td>\n",
       "      <td>SWEETS</td>\n",
       "      <td>ANDRUTY   FURMANIAK</td>\n",
       "      <td>97.0</td>\n",
       "      <td>0.699381</td>\n",
       "      <td>-0.42</td>\n",
       "      <td>-4.84</td>\n",
       "      <td>1</td>\n",
       "      <td>2</td>\n",
       "      <td>82.81</td>\n",
       "    </tr>\n",
       "    <tr>\n",
       "      <th>2</th>\n",
       "      <td>1497</td>\n",
       "      <td>1497</td>\n",
       "      <td>2018-01-01</td>\n",
       "      <td>9</td>\n",
       "      <td>SWEETS</td>\n",
       "      <td>ANIMALS MODEL</td>\n",
       "      <td>1.0</td>\n",
       "      <td>5.680000</td>\n",
       "      <td>-0.42</td>\n",
       "      <td>-4.84</td>\n",
       "      <td>1</td>\n",
       "      <td>2</td>\n",
       "      <td>82.81</td>\n",
       "    </tr>\n",
       "    <tr>\n",
       "      <th>3</th>\n",
       "      <td>1498</td>\n",
       "      <td>1498</td>\n",
       "      <td>2018-01-01</td>\n",
       "      <td>9</td>\n",
       "      <td>SWEETS</td>\n",
       "      <td>BATON 7DAYS KAKAO W POLEWIE</td>\n",
       "      <td>3.0</td>\n",
       "      <td>0.550000</td>\n",
       "      <td>-0.42</td>\n",
       "      <td>-4.84</td>\n",
       "      <td>1</td>\n",
       "      <td>2</td>\n",
       "      <td>82.81</td>\n",
       "    </tr>\n",
       "    <tr>\n",
       "      <th>4</th>\n",
       "      <td>1499</td>\n",
       "      <td>1499</td>\n",
       "      <td>2018-01-01</td>\n",
       "      <td>9</td>\n",
       "      <td>SWEETS</td>\n",
       "      <td>BATON BOUNTY 57G</td>\n",
       "      <td>12.0</td>\n",
       "      <td>1.490000</td>\n",
       "      <td>-0.42</td>\n",
       "      <td>-4.84</td>\n",
       "      <td>1</td>\n",
       "      <td>2</td>\n",
       "      <td>82.81</td>\n",
       "    </tr>\n",
       "  </tbody>\n",
       "</table>\n",
       "</div>"
      ],
      "text/plain": [
       "   Unnamed: 0  Unnamed: 0.1        date  ishol/week   group  \\\n",
       "0        1495          1495  2018-01-01           9  SWEETS   \n",
       "1        1496          1496  2018-01-01           9  SWEETS   \n",
       "2        1497          1497  2018-01-01           9  SWEETS   \n",
       "3        1498          1498  2018-01-01           9  SWEETS   \n",
       "4        1499          1499  2018-01-01           9  SWEETS   \n",
       "\n",
       "                             name  quantity  unit_cogs  monthly_Avgtemp  \\\n",
       "0  AMELIA PIANKA 380 G SMIET.CZEK       2.0   4.180000            -0.42   \n",
       "1             ANDRUTY   FURMANIAK      97.0   0.699381            -0.42   \n",
       "2                   ANIMALS MODEL       1.0   5.680000            -0.42   \n",
       "3     BATON 7DAYS KAKAO W POLEWIE       3.0   0.550000            -0.42   \n",
       "4                BATON BOUNTY 57G      12.0   1.490000            -0.42   \n",
       "\n",
       "   monthly_avg_FeelsLikeC  monthly_avg_HeatIndexC  monthly_avg_cloudcover  \\\n",
       "0                   -4.84                       1                       2   \n",
       "1                   -4.84                       1                       2   \n",
       "2                   -4.84                       1                       2   \n",
       "3                   -4.84                       1                       2   \n",
       "4                   -4.84                       1                       2   \n",
       "\n",
       "   monthly_avg_humidity  \n",
       "0                 82.81  \n",
       "1                 82.81  \n",
       "2                 82.81  \n",
       "3                 82.81  \n",
       "4                 82.81  "
      ]
     },
     "execution_count": 3,
     "metadata": {},
     "output_type": "execute_result"
    }
   ],
   "source": [
    "df.head()"
   ]
  },
  {
   "cell_type": "code",
   "execution_count": 5,
   "metadata": {},
   "outputs": [],
   "source": [
    "test=df[\"name\"].unique()"
   ]
  },
  {
   "cell_type": "code",
   "execution_count": 6,
   "metadata": {},
   "outputs": [],
   "source": [
    "test=pd.DataFrame(test)"
   ]
  },
  {
   "cell_type": "code",
   "execution_count": 7,
   "metadata": {},
   "outputs": [
    {
     "data": {
      "text/plain": [
       "pandas.core.frame.DataFrame"
      ]
     },
     "execution_count": 7,
     "metadata": {},
     "output_type": "execute_result"
    }
   ],
   "source": [
    "type(test)"
   ]
  },
  {
   "cell_type": "code",
   "execution_count": 8,
   "metadata": {},
   "outputs": [
    {
     "data": {
      "text/html": [
       "<div>\n",
       "<style scoped>\n",
       "    .dataframe tbody tr th:only-of-type {\n",
       "        vertical-align: middle;\n",
       "    }\n",
       "\n",
       "    .dataframe tbody tr th {\n",
       "        vertical-align: top;\n",
       "    }\n",
       "\n",
       "    .dataframe thead th {\n",
       "        text-align: right;\n",
       "    }\n",
       "</style>\n",
       "<table border=\"1\" class=\"dataframe\">\n",
       "  <thead>\n",
       "    <tr style=\"text-align: right;\">\n",
       "      <th></th>\n",
       "      <th>0</th>\n",
       "    </tr>\n",
       "  </thead>\n",
       "  <tbody>\n",
       "    <tr>\n",
       "      <th>0</th>\n",
       "      <td>AMELIA PIANKA 380 G SMIET.CZEK</td>\n",
       "    </tr>\n",
       "    <tr>\n",
       "      <th>1</th>\n",
       "      <td>ANDRUTY   FURMANIAK</td>\n",
       "    </tr>\n",
       "    <tr>\n",
       "      <th>2</th>\n",
       "      <td>ANIMALS MODEL</td>\n",
       "    </tr>\n",
       "    <tr>\n",
       "      <th>3</th>\n",
       "      <td>BATON 7DAYS KAKAO W POLEWIE</td>\n",
       "    </tr>\n",
       "    <tr>\n",
       "      <th>4</th>\n",
       "      <td>BATON BOUNTY 57G</td>\n",
       "    </tr>\n",
       "  </tbody>\n",
       "</table>\n",
       "</div>"
      ],
      "text/plain": [
       "                                0\n",
       "0  AMELIA PIANKA 380 G SMIET.CZEK\n",
       "1             ANDRUTY   FURMANIAK\n",
       "2                   ANIMALS MODEL\n",
       "3     BATON 7DAYS KAKAO W POLEWIE\n",
       "4                BATON BOUNTY 57G"
      ]
     },
     "execution_count": 8,
     "metadata": {},
     "output_type": "execute_result"
    }
   ],
   "source": [
    "test.head()"
   ]
  },
  {
   "cell_type": "code",
   "execution_count": null,
   "metadata": {},
   "outputs": [],
   "source": []
  }
 ],
 "metadata": {
  "kernelspec": {
   "display_name": "Python 3",
   "language": "python",
   "name": "python3"
  },
  "language_info": {
   "codemirror_mode": {
    "name": "ipython",
    "version": 3
   },
   "file_extension": ".py",
   "mimetype": "text/x-python",
   "name": "python",
   "nbconvert_exporter": "python",
   "pygments_lexer": "ipython3",
   "version": "3.8.2"
  }
 },
 "nbformat": 4,
 "nbformat_minor": 4
}
