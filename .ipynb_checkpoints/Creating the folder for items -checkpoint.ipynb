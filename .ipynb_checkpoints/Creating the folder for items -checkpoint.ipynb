{
 "cells": [
  {
   "cell_type": "code",
   "execution_count": 32,
   "metadata": {},
   "outputs": [],
   "source": [
    "import pandas as pd\n",
    "import numpy as np"
   ]
  },
  {
   "cell_type": "code",
   "execution_count": 33,
   "metadata": {},
   "outputs": [],
   "source": [
    "groups=[\"ALCOHOL\",\"BREAD\",\"CHEMISTRY\",\"CHEWING_GUM_LOLIPOPS\",\"CHIPS_FLAKES\",\"CIGARETTES\",\"COFFEE TEA\",\n",
    "        \"COOKIES_BULK\",\"DAIRY_CHESSE\",\"DRINK_JUICE\",\"GENERAL\",\"GENERAL_FOOD\",\"GENERAL_ITEMS\",\"GROATS_RICE_PASTA\",\n",
    "        \"ICE_CREAMS_FROZEN\",\"KETCH_CONCETRATE_MUSTARD_MAJO_HORSERADISH\",\"OCCASIONAL\",\"POULTRY\",\"SPICES\",\n",
    "        \"SWEETS\",\"TABLETS\",\"VEGETABLES\"]"
   ]
  },
  {
   "cell_type": "code",
   "execution_count": 34,
   "metadata": {},
   "outputs": [],
   "source": [
    "def create_item_files(group_name):\n",
    "    dataset=\"GROUP_OF_DATASETS/\"+group_name+\".csv\"\n",
    "    df=pd.read_csv(dataset)\n",
    "    new_df=new_df=pd.DataFrame(df[\"name\"].unique())\n",
    "    new_df=new_df.rename(columns={0:\"Name of Product\"})\n",
    "    new_df.to_csv(\"GROUP_OF_ITEMS/\"+group+\".csv\",index=False)"
   ]
  },
  {
   "cell_type": "code",
   "execution_count": 35,
   "metadata": {},
   "outputs": [],
   "source": [
    "for group in groups:\n",
    "    create_item_files(group)"
   ]
  }
 ],
 "metadata": {
  "kernelspec": {
   "display_name": "Python 3",
   "language": "python",
   "name": "python3"
  },
  "language_info": {
   "codemirror_mode": {
    "name": "ipython",
    "version": 3
   },
   "file_extension": ".py",
   "mimetype": "text/x-python",
   "name": "python",
   "nbconvert_exporter": "python",
   "pygments_lexer": "ipython3",
   "version": "3.8.2"
  }
 },
 "nbformat": 4,
 "nbformat_minor": 4
}
